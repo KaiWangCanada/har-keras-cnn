{
 "cells": [
  {
   "cell_type": "code",
   "execution_count": 230,
   "metadata": {},
   "outputs": [],
   "source": [
    "from matplotlib import pyplot as plt\n",
    "import numpy as np\n",
    "import pandas as pd\n",
    "import seaborn as sns\n",
    "\n",
    "from sklearn import metrics\n",
    "from sklearn.metrics import confusion_matrix\n",
    "\n",
    "import keras\n",
    "from keras.models import Sequential, Model\n",
    "from keras.layers import Dense, Dropout, Reshape, GlobalAveragePooling1D\n",
    "from keras.layers import Conv1D, Conv2D, MaxPool2D, AveragePooling2D, MaxPooling1D, AveragePooling1D\n",
    "from keras.utils import np_utils\n",
    "from keras import optimizers"
   ]
  },
  {
   "cell_type": "code",
   "execution_count": 231,
   "metadata": {},
   "outputs": [],
   "source": [
    "root_folder = '/Users/kaiwang/bkup/har-keras-cnn/'"
   ]
  },
  {
   "cell_type": "code",
   "execution_count": 232,
   "metadata": {},
   "outputs": [],
   "source": [
    "'''params'''\n",
    "# n features\n",
    "N_FEATURES = 3\n",
    "\n",
    "# The number of steps within one time segment\n",
    "TIME_PERIODS = 60\n",
    "# The steps to take from one segment to the next; if this value is equal to\n",
    "# TIME_PERIODS, then there is no overlap between the segments\n",
    "STEP_DISTANCE = 1\n",
    "\n",
    "filter_height = 3\n",
    "filter_depths = [8, 8, 8, 16]\n",
    "drop_out = 0.5\n",
    "\n",
    "# Hyper-parameters\n",
    "BATCH_SIZE = 400\n",
    "EPOCHS = 60"
   ]
  },
  {
   "cell_type": "code",
   "execution_count": 233,
   "metadata": {},
   "outputs": [],
   "source": [
    "def read_data(file_path):\n",
    "    df = pd.read_csv(file_path, index_col=[0])\n",
    "\n",
    "    df_stock = df[df['minor'] == 'VMC'][['minor', 'Date', '0', '1', '2', 'f1d_label']]\n",
    "    return df_stock\n",
    "\n",
    "\n",
    "def create_segments_and_labels(df, time_steps, step, label_name):\n",
    "    # Number of steps to advance in each iteration\n",
    "    segments = []\n",
    "    labels = []\n",
    "    for i in range(0, len(df) - time_steps, step):\n",
    "        feature_vals = []\n",
    "        for j in range(N_FEATURES):\n",
    "            feature_vals.append(df[str(j)].values[i: i + time_steps])\n",
    "\n",
    "        # use last days f1d_binary as label\n",
    "        label = df[label_name].values[i + time_steps - 1] * 1000\n",
    "\n",
    "        segments.append(feature_vals)\n",
    "        labels.append(label)\n",
    "\n",
    "    # Bring the segments into a better shape\n",
    "    reshaped_segments = np.asarray(segments, dtype= np.float32).reshape(-1, time_steps, N_FEATURES)\n",
    "    labels = np.asarray(labels)\n",
    "\n",
    "    return reshaped_segments, labels"
   ]
  },
  {
   "cell_type": "code",
   "execution_count": 234,
   "metadata": {},
   "outputs": [
    {
     "name": "stdout",
     "output_type": "stream",
     "text": [
      "\n",
      "--- Reshape the data into segments ---\n",
      "\n",
      "\n",
      "--- Reshape data to be accepted by Keras ---\n",
      "\n",
      "('x_train shape: ', (5360, 60, 3))\n",
      "(5360, 'training samples')\n",
      "('y_train shape: ', (5360,))\n"
     ]
    }
   ],
   "source": [
    "df = read_data(root_folder + 'Data/temp_ret_3_30_stocks.csv')\n",
    "\n",
    "# Define column name of the label vector\n",
    "LABEL = 'f1d_label'\n",
    "\n",
    "print(\"\\n--- Reshape the data into segments ---\\n\")\n",
    "\n",
    "# Differentiate between test set and training set\n",
    "df_test = df[df['Date'] > '2019-02-24T09:30:00Z']\n",
    "df_train = df[df['Date'] <= '2019-02-24T09:30:00Z']\n",
    "\n",
    "# Reshape the training data into segments\n",
    "# so that they can be processed by the network\n",
    "x_train, y_train = create_segments_and_labels(df_train,\n",
    "                                              TIME_PERIODS,\n",
    "                                              STEP_DISTANCE,\n",
    "                                              LABEL)\n",
    "\n",
    "print(\"\\n--- Reshape data to be accepted by Keras ---\\n\")\n",
    "\n",
    "# Inspect x data\n",
    "print('x_train shape: ', x_train.shape)\n",
    "# Displays (134, 80, 3)\n",
    "print(x_train.shape[0], 'training samples')\n",
    "# Displays 134 train samples\n",
    "\n",
    "# Inspect y data\n",
    "print('y_train shape: ', y_train.shape)\n",
    "# Displays (134,)"
   ]
  },
  {
   "cell_type": "code",
   "execution_count": 235,
   "metadata": {},
   "outputs": [
    {
     "name": "stdout",
     "output_type": "stream",
     "text": [
      "('x_train shape:', (5360, 180))\n",
      "('input_shape:', 180)\n"
     ]
    }
   ],
   "source": [
    "# Set input & output dimensions\n",
    "num_time_periods, num_features = x_train.shape[1], x_train.shape[2]\n",
    "num_classes = 2\n",
    "\n",
    "# Set input_shape / reshape for Keras\n",
    "# todo: remove\n",
    "# Remark: acceleration data is concatenated in one array in order to feed\n",
    "# it properly into coreml later, the preferred matrix of shape [80,3]\n",
    "# cannot be read in with the current version of coreml (see also reshape\n",
    "# layer as the first layer in the keras model)\n",
    "input_shape = (num_time_periods * num_features)\n",
    "x_train = x_train.reshape(x_train.shape[0], input_shape)\n",
    "\n",
    "print('x_train shape:', x_train.shape)\n",
    "# x_train shape: (20869, 240)\n",
    "print('input_shape:', input_shape)\n",
    "# input_shape: (240)\n",
    "\n",
    "# Convert type for Keras otherwise Keras cannot process the data\n",
    "x_train = x_train.astype(\"float32\")\n",
    "y_train = y_train.astype(\"float32\")"
   ]
  },
  {
   "cell_type": "code",
   "execution_count": 236,
   "metadata": {},
   "outputs": [
    {
     "name": "stdout",
     "output_type": "stream",
     "text": [
      "\n",
      "--- Create neural network model ---\n",
      "\n",
      "_________________________________________________________________\n",
      "Layer (type)                 Output Shape              Param #   \n",
      "=================================================================\n",
      "reshape_18 (Reshape)         (None, 60, 3)             0         \n",
      "_________________________________________________________________\n",
      "conv1d_60 (Conv1D)           (None, 58, 8)             80        \n",
      "_________________________________________________________________\n",
      "conv1d_61 (Conv1D)           (None, 56, 8)             200       \n",
      "_________________________________________________________________\n",
      "average_pooling1d_18 (Averag (None, 18, 8)             0         \n",
      "_________________________________________________________________\n",
      "global_average_pooling1d_17  (None, 8)                 0         \n",
      "_________________________________________________________________\n",
      "dense_36 (Dense)             (None, 20)                180       \n",
      "_________________________________________________________________\n",
      "dense_37 (Dense)             (None, 1)                 21        \n",
      "=================================================================\n",
      "Total params: 481\n",
      "Trainable params: 481\n",
      "Non-trainable params: 0\n",
      "_________________________________________________________________\n",
      "None\n",
      "\n",
      "--- Fit the model ---\n",
      "\n",
      "Train on 4288 samples, validate on 1072 samples\n",
      "Epoch 1/60\n",
      "4288/4288 [==============================] - 1s 305us/step - loss: 15.1301 - mean_absolute_error: 2.0831 - val_loss: 3.5681 - val_mean_absolute_error: 1.3675\n",
      "Epoch 2/60\n",
      "4288/4288 [==============================] - 0s 23us/step - loss: 15.1209 - mean_absolute_error: 2.0829 - val_loss: 3.5739 - val_mean_absolute_error: 1.3706\n",
      "Epoch 3/60\n",
      "4288/4288 [==============================] - 0s 23us/step - loss: 15.1148 - mean_absolute_error: 2.0833 - val_loss: 3.5822 - val_mean_absolute_error: 1.3746\n",
      "Epoch 4/60\n",
      "4288/4288 [==============================] - 0s 24us/step - loss: 15.1097 - mean_absolute_error: 2.0834 - val_loss: 3.5915 - val_mean_absolute_error: 1.3787\n",
      "Epoch 5/60\n",
      "4288/4288 [==============================] - 0s 21us/step - loss: 15.1026 - mean_absolute_error: 2.0834 - val_loss: 3.5993 - val_mean_absolute_error: 1.3823\n",
      "Epoch 6/60\n",
      "4288/4288 [==============================] - 0s 22us/step - loss: 15.0980 - mean_absolute_error: 2.0839 - val_loss: 3.6059 - val_mean_absolute_error: 1.3852\n",
      "Epoch 7/60\n",
      "4288/4288 [==============================] - 0s 26us/step - loss: 15.0954 - mean_absolute_error: 2.0846 - val_loss: 3.6149 - val_mean_absolute_error: 1.3889\n",
      "Epoch 8/60\n",
      "4288/4288 [==============================] - 0s 27us/step - loss: 15.0928 - mean_absolute_error: 2.0854 - val_loss: 3.6237 - val_mean_absolute_error: 1.3924\n",
      "Epoch 9/60\n",
      "4288/4288 [==============================] - 0s 26us/step - loss: 15.0906 - mean_absolute_error: 2.0859 - val_loss: 3.6317 - val_mean_absolute_error: 1.3954\n",
      "Epoch 10/60\n",
      "4288/4288 [==============================] - 0s 25us/step - loss: 15.0892 - mean_absolute_error: 2.0867 - val_loss: 3.6404 - val_mean_absolute_error: 1.3988\n",
      "Epoch 11/60\n",
      "4288/4288 [==============================] - 0s 27us/step - loss: 15.0887 - mean_absolute_error: 2.0876 - val_loss: 3.6472 - val_mean_absolute_error: 1.4015\n",
      "Epoch 12/60\n",
      "4288/4288 [==============================] - 0s 27us/step - loss: 15.0878 - mean_absolute_error: 2.0882 - val_loss: 3.6513 - val_mean_absolute_error: 1.4031\n",
      "Epoch 13/60\n",
      "4288/4288 [==============================] - 0s 25us/step - loss: 15.0883 - mean_absolute_error: 2.0889 - val_loss: 3.6566 - val_mean_absolute_error: 1.4051\n",
      "Epoch 14/60\n",
      "4288/4288 [==============================] - 0s 26us/step - loss: 15.0886 - mean_absolute_error: 2.0896 - val_loss: 3.6624 - val_mean_absolute_error: 1.4073\n",
      "Epoch 15/60\n",
      "4288/4288 [==============================] - 0s 27us/step - loss: 15.0875 - mean_absolute_error: 2.0895 - val_loss: 3.6591 - val_mean_absolute_error: 1.4061\n",
      "Epoch 16/60\n",
      "4288/4288 [==============================] - 0s 27us/step - loss: 15.0879 - mean_absolute_error: 2.0897 - val_loss: 3.6605 - val_mean_absolute_error: 1.4066\n",
      "Epoch 17/60\n",
      "4288/4288 [==============================] - 0s 27us/step - loss: 15.0876 - mean_absolute_error: 2.0894 - val_loss: 3.6588 - val_mean_absolute_error: 1.4059\n",
      "Epoch 18/60\n",
      "4288/4288 [==============================] - 0s 27us/step - loss: 15.0874 - mean_absolute_error: 2.0894 - val_loss: 3.6591 - val_mean_absolute_error: 1.4061\n",
      "Epoch 19/60\n",
      "4288/4288 [==============================] - 0s 29us/step - loss: 15.0877 - mean_absolute_error: 2.0897 - val_loss: 3.6637 - val_mean_absolute_error: 1.4077\n",
      "Epoch 20/60\n",
      "4288/4288 [==============================] - 0s 28us/step - loss: 15.0875 - mean_absolute_error: 2.0900 - val_loss: 3.6638 - val_mean_absolute_error: 1.4078\n",
      "Epoch 21/60\n",
      "4288/4288 [==============================] - 0s 24us/step - loss: 15.0874 - mean_absolute_error: 2.0897 - val_loss: 3.6610 - val_mean_absolute_error: 1.4068\n",
      "Epoch 22/60\n",
      "4288/4288 [==============================] - 0s 21us/step - loss: 15.0873 - mean_absolute_error: 2.0896 - val_loss: 3.6609 - val_mean_absolute_error: 1.4067\n",
      "Epoch 23/60\n",
      "4288/4288 [==============================] - 0s 21us/step - loss: 15.0878 - mean_absolute_error: 2.0892 - val_loss: 3.6573 - val_mean_absolute_error: 1.4054\n",
      "Epoch 24/60\n",
      "4288/4288 [==============================] - 0s 24us/step - loss: 15.0873 - mean_absolute_error: 2.0891 - val_loss: 3.6578 - val_mean_absolute_error: 1.4056\n",
      "Epoch 25/60\n",
      "4288/4288 [==============================] - 0s 25us/step - loss: 15.0882 - mean_absolute_error: 2.0898 - val_loss: 3.6630 - val_mean_absolute_error: 1.4075\n",
      "Epoch 26/60\n",
      "4288/4288 [==============================] - 0s 26us/step - loss: 15.0873 - mean_absolute_error: 2.0897 - val_loss: 3.6606 - val_mean_absolute_error: 1.4066\n",
      "Epoch 27/60\n",
      "4288/4288 [==============================] - 0s 27us/step - loss: 15.0873 - mean_absolute_error: 2.0896 - val_loss: 3.6604 - val_mean_absolute_error: 1.4065\n",
      "Epoch 28/60\n",
      "4288/4288 [==============================] - 0s 26us/step - loss: 15.0873 - mean_absolute_error: 2.0893 - val_loss: 3.6583 - val_mean_absolute_error: 1.4058\n",
      "Epoch 29/60\n",
      "4288/4288 [==============================] - 0s 27us/step - loss: 15.0872 - mean_absolute_error: 2.0893 - val_loss: 3.6598 - val_mean_absolute_error: 1.4063\n",
      "Epoch 30/60\n",
      "4288/4288 [==============================] - 0s 29us/step - loss: 15.0872 - mean_absolute_error: 2.0894 - val_loss: 3.6599 - val_mean_absolute_error: 1.4064\n",
      "Epoch 31/60\n",
      "4288/4288 [==============================] - 0s 28us/step - loss: 15.0873 - mean_absolute_error: 2.0897 - val_loss: 3.6607 - val_mean_absolute_error: 1.4067\n",
      "Epoch 32/60\n",
      "4288/4288 [==============================] - 0s 26us/step - loss: 15.0870 - mean_absolute_error: 2.0896 - val_loss: 3.6608 - val_mean_absolute_error: 1.4067\n",
      "Epoch 33/60\n",
      "4288/4288 [==============================] - 0s 29us/step - loss: 15.0870 - mean_absolute_error: 2.0895 - val_loss: 3.6612 - val_mean_absolute_error: 1.4068\n",
      "Epoch 34/60\n",
      "4288/4288 [==============================] - 0s 27us/step - loss: 15.0869 - mean_absolute_error: 2.0897 - val_loss: 3.6626 - val_mean_absolute_error: 1.4074\n",
      "Epoch 35/60\n",
      "4288/4288 [==============================] - 0s 28us/step - loss: 15.0869 - mean_absolute_error: 2.0898 - val_loss: 3.6627 - val_mean_absolute_error: 1.4074\n",
      "Epoch 36/60\n",
      "4288/4288 [==============================] - 0s 30us/step - loss: 15.0870 - mean_absolute_error: 2.0898 - val_loss: 3.6644 - val_mean_absolute_error: 1.4080\n",
      "Epoch 37/60\n",
      "4288/4288 [==============================] - 0s 25us/step - loss: 15.0871 - mean_absolute_error: 2.0897 - val_loss: 3.6599 - val_mean_absolute_error: 1.4064\n",
      "Epoch 38/60\n",
      "4288/4288 [==============================] - 0s 23us/step - loss: 15.0868 - mean_absolute_error: 2.0897 - val_loss: 3.6631 - val_mean_absolute_error: 1.4076\n",
      "Epoch 39/60\n",
      "4288/4288 [==============================] - 0s 20us/step - loss: 15.0866 - mean_absolute_error: 2.0899 - val_loss: 3.6643 - val_mean_absolute_error: 1.4080\n",
      "Epoch 40/60\n",
      "4288/4288 [==============================] - 0s 19us/step - loss: 15.0866 - mean_absolute_error: 2.0901 - val_loss: 3.6647 - val_mean_absolute_error: 1.4081\n",
      "Epoch 41/60\n"
     ]
    },
    {
     "name": "stdout",
     "output_type": "stream",
     "text": [
      "4288/4288 [==============================] - 0s 19us/step - loss: 15.0868 - mean_absolute_error: 2.0896 - val_loss: 3.6604 - val_mean_absolute_error: 1.4066\n",
      "Epoch 42/60\n",
      "4288/4288 [==============================] - 0s 20us/step - loss: 15.0875 - mean_absolute_error: 2.0892 - val_loss: 3.6555 - val_mean_absolute_error: 1.4047\n",
      "Epoch 43/60\n",
      "4288/4288 [==============================] - 0s 22us/step - loss: 15.0864 - mean_absolute_error: 2.0891 - val_loss: 3.6602 - val_mean_absolute_error: 1.4065\n",
      "Epoch 44/60\n",
      "4288/4288 [==============================] - 0s 24us/step - loss: 15.0861 - mean_absolute_error: 2.0896 - val_loss: 3.6631 - val_mean_absolute_error: 1.4075\n",
      "Epoch 45/60\n",
      "4288/4288 [==============================] - 0s 24us/step - loss: 15.0867 - mean_absolute_error: 2.0894 - val_loss: 3.6593 - val_mean_absolute_error: 1.4062\n",
      "Epoch 46/60\n",
      "4288/4288 [==============================] - 0s 24us/step - loss: 15.0867 - mean_absolute_error: 2.0899 - val_loss: 3.6655 - val_mean_absolute_error: 1.4084\n",
      "Epoch 47/60\n",
      "4288/4288 [==============================] - 0s 25us/step - loss: 15.0860 - mean_absolute_error: 2.0900 - val_loss: 3.6641 - val_mean_absolute_error: 1.4079\n",
      "Epoch 48/60\n",
      "4288/4288 [==============================] - 0s 24us/step - loss: 15.0858 - mean_absolute_error: 2.0900 - val_loss: 3.6657 - val_mean_absolute_error: 1.4085\n",
      "Epoch 49/60\n",
      "4288/4288 [==============================] - 0s 24us/step - loss: 15.0854 - mean_absolute_error: 2.0899 - val_loss: 3.6641 - val_mean_absolute_error: 1.4079\n",
      "Epoch 50/60\n",
      "4288/4288 [==============================] - ETA: 0s - loss: 16.2867 - mean_absolute_error: 2.11 - 0s 23us/step - loss: 15.0853 - mean_absolute_error: 2.0896 - val_loss: 3.6610 - val_mean_absolute_error: 1.4068\n",
      "Epoch 51/60\n",
      "4288/4288 [==============================] - 0s 22us/step - loss: 15.0850 - mean_absolute_error: 2.0894 - val_loss: 3.6604 - val_mean_absolute_error: 1.4065\n",
      "Epoch 52/60\n",
      "4288/4288 [==============================] - 0s 22us/step - loss: 15.0849 - mean_absolute_error: 2.0892 - val_loss: 3.6593 - val_mean_absolute_error: 1.4061\n",
      "Epoch 53/60\n",
      "4288/4288 [==============================] - 0s 25us/step - loss: 15.0849 - mean_absolute_error: 2.0890 - val_loss: 3.6594 - val_mean_absolute_error: 1.4062\n",
      "Epoch 54/60\n",
      "4288/4288 [==============================] - 0s 21us/step - loss: 15.0847 - mean_absolute_error: 2.0893 - val_loss: 3.6615 - val_mean_absolute_error: 1.4069\n",
      "Epoch 55/60\n",
      "4288/4288 [==============================] - 0s 22us/step - loss: 15.0845 - mean_absolute_error: 2.0893 - val_loss: 3.6608 - val_mean_absolute_error: 1.4067\n",
      "Epoch 56/60\n",
      "4288/4288 [==============================] - 0s 22us/step - loss: 15.0843 - mean_absolute_error: 2.0895 - val_loss: 3.6646 - val_mean_absolute_error: 1.4081\n",
      "Epoch 57/60\n",
      "4288/4288 [==============================] - 0s 22us/step - loss: 15.0840 - mean_absolute_error: 2.0898 - val_loss: 3.6653 - val_mean_absolute_error: 1.4084\n",
      "Epoch 58/60\n",
      "4288/4288 [==============================] - 0s 22us/step - loss: 15.0838 - mean_absolute_error: 2.0895 - val_loss: 3.6607 - val_mean_absolute_error: 1.4067\n",
      "Epoch 59/60\n",
      "4288/4288 [==============================] - 0s 18us/step - loss: 15.0833 - mean_absolute_error: 2.0891 - val_loss: 3.6598 - val_mean_absolute_error: 1.4063\n",
      "Epoch 60/60\n",
      "4288/4288 [==============================] - 0s 17us/step - loss: 15.0833 - mean_absolute_error: 2.0890 - val_loss: 3.6606 - val_mean_absolute_error: 1.4066\n"
     ]
    }
   ],
   "source": [
    "print(\"\\n--- Create neural network model ---\\n\")\n",
    "\n",
    "activation_func = 'relu'\n",
    "# 1D CNN neural network\n",
    "model_m = Sequential()\n",
    "model_m.add(Reshape((TIME_PERIODS, num_features), input_shape=(input_shape,)))  # 0\n",
    "model_m.add(Conv1D(filter_depths[0], filter_height, activation=activation_func, input_shape=(TIME_PERIODS, num_features)))  # 1\n",
    "model_m.add(Conv1D(filter_depths[1], filter_height, activation=activation_func))  # 2\n",
    "model_m.add(AveragePooling1D(N_FEATURES))  # 3\n",
    "# model_m.add(Conv1D(filter_depths[2], filter_height, activation=activation_func))  # 4\n",
    "# model_m.add(Conv1D(filter_depths[3], filter_height, activation=activation_func))  # 5\n",
    "model_m.add(GlobalAveragePooling1D())  # 6\n",
    "# model_m.add(Dropout(drop_out))  # 7\n",
    "model_m.add(Dense(20, activation=activation_func)) # 8\n",
    "model_m.add(Dense(1))  # 9\n",
    "print(model_m.summary())\n",
    "\n",
    "# model_m.compile(optimizer=optimizers.Adam(lr=0.001), loss='mean_absolute_error')\n",
    "model_m.compile(loss='mse', optimizer='adam', metrics=['mae'])\n",
    "\n",
    "print(\"\\n--- Fit the model ---\\n\")\n",
    "\n",
    "callbacks_list = [\n",
    "    keras.callbacks.ModelCheckpoint(\n",
    "        filepath=root_folder + 'models_regression/best_model.{epoch:02d}-{val_loss:.2f}.h5',\n",
    "        monitor='val_loss', save_best_only=True)\n",
    "#     keras.callbacks.EarlyStopping(monitor='acc', patience=3) # todo\n",
    "]\n",
    "\n",
    "# Enable validation to use ModelCheckpoint and EarlyStopping callbacks.\n",
    "history = model_m.fit(x_train,\n",
    "                      y_train,\n",
    "                      batch_size=BATCH_SIZE,\n",
    "                      epochs=EPOCHS,\n",
    "#                       callbacks=callbacks_list,\n",
    "                      validation_split=0.2,\n",
    "                      verbose=1)"
   ]
  },
  {
   "cell_type": "code",
   "execution_count": 237,
   "metadata": {},
   "outputs": [
    {
     "data": {
      "text/plain": [
       "<matplotlib.legend.Legend at 0x11fb13590>"
      ]
     },
     "execution_count": 237,
     "metadata": {},
     "output_type": "execute_result"
    },
    {
     "data": {
      "image/png": "[encoded data removed]",
      "text/plain": [
       "<Figure size 432x288 with 1 Axes>"
      ]
     },
     "metadata": {},
     "output_type": "display_data"
    }
   ],
   "source": [
    "plt.figure(figsize=(6, 4))\n",
    "plt.plot(history.history['loss'], \"b\", label=\"Loss of training data\")\n",
    "plt.plot(history.history['val_loss'], \"r\", label=\"Loss of validation data\")\n",
    "plt.title('Model Loss')\n",
    "plt.ylabel('Loss')\n",
    "plt.xlabel('Training Epoch')\n",
    "plt.ylim(0)\n",
    "plt.legend()"
   ]
  },
  {
   "cell_type": "code",
   "execution_count": 238,
   "metadata": {},
   "outputs": [
    {
     "name": "stdout",
     "output_type": "stream",
     "text": [
      "[<keras.layers.core.Reshape object at 0x11edd32d0>, <keras.layers.convolutional.Conv1D object at 0x11fd78ad0>, <keras.layers.convolutional.Conv1D object at 0x11fd78a90>, <keras.layers.pooling.AveragePooling1D object at 0x11e7bb0d0>, <keras.layers.pooling.GlobalAveragePooling1D object at 0x11fd78910>, <keras.layers.core.Dense object at 0x11fd65650>, <keras.layers.core.Dense object at 0x11f30c590>]\n"
     ]
    }
   ],
   "source": [
    "print(model_m.layers)\n",
    "\n",
    "# print ('\\ncheck layer before softmax output')\n",
    "layer_models = []\n",
    "for i in range(len(model_m.layers)):\n",
    "    layer_models.append(Model(inputs=model_m.input, outputs=model_m.layers[i].output))"
   ]
  },
  {
   "cell_type": "code",
   "execution_count": 239,
   "metadata": {},
   "outputs": [],
   "source": [
    "# x_test, y_test = create_segments_and_labels(df_test,\n",
    "#                                             TIME_PERIODS,\n",
    "#                                             STEP_DISTANCE,\n",
    "#                                             LABEL)\n",
    "\n",
    "# # Set input_shape / reshape for Keras\n",
    "# # todo: remove\n",
    "# x_test = x_test.reshape(x_test.shape[0], input_shape)\n",
    "\n",
    "# x_test = x_test.astype(\"float32\")\n",
    "# y_test = y_test.astype(\"float32\")\n",
    "\n",
    "# score = model_m.evaluate(x_test, y_test, verbose=1)\n",
    "\n",
    "# print('score:')\n",
    "# print(score)\n",
    "\n",
    "# y_pred_test = model_m.predict(x_test)"
   ]
  },
  {
   "cell_type": "code",
   "execution_count": 240,
   "metadata": {},
   "outputs": [],
   "source": [
    "# plt.hist(y_pred_test)"
   ]
  },
  {
   "cell_type": "code",
   "execution_count": 241,
   "metadata": {},
   "outputs": [
    {
     "data": {
      "text/plain": [
       "(array([1.000e+00, 0.000e+00, 0.000e+00, 0.000e+00, 0.000e+00, 0.000e+00,\n",
       "        1.000e+00, 0.000e+00, 1.000e+00, 9.000e+00, 3.600e+01, 9.200e+01,\n",
       "        7.420e+02, 2.942e+03, 1.220e+03, 2.090e+02, 6.900e+01, 1.200e+01,\n",
       "        1.200e+01, 2.000e+00, 2.000e+00, 0.000e+00, 0.000e+00, 0.000e+00,\n",
       "        0.000e+00, 0.000e+00, 1.000e+00, 1.000e+00, 2.000e+00, 0.000e+00,\n",
       "        2.000e+00, 2.000e+00, 0.000e+00, 0.000e+00, 0.000e+00, 1.000e+00,\n",
       "        0.000e+00, 0.000e+00, 0.000e+00, 1.000e+00]),\n",
       " array([-40.53564835, -37.56790934, -34.60017033, -31.63243132,\n",
       "        -28.66469231, -25.6969533 , -22.72921429, -19.76147528,\n",
       "        -16.79373627, -13.82599726, -10.85825825,  -7.89051924,\n",
       "         -4.92278023,  -1.95504122,   1.01269779,   3.9804368 ,\n",
       "          6.94817581,   9.91591482,  12.88365383,  15.85139284,\n",
       "         18.81913185,  21.78687086,  24.75460987,  27.72234888,\n",
       "         30.69008789,  33.6578269 ,  36.62556591,  39.59330492,\n",
       "         42.56104393,  45.52878294,  48.49652195,  51.46426096,\n",
       "         54.43199997,  57.39973898,  60.36747799,  63.335217  ,\n",
       "         66.30295601,  69.27069502,  72.23843403,  75.20617304,\n",
       "         78.17391205]),\n",
       " <a list of 40 Patch objects>)"
      ]
     },
     "execution_count": 241,
     "metadata": {},
     "output_type": "execute_result"
    },
    {
     "data": {
      "image/png": "[encoded data removed]",
      "text/plain": [
       "<Figure size 432x288 with 1 Axes>"
      ]
     },
     "metadata": {},
     "output_type": "display_data"
    }
   ],
   "source": [
    "plt.hist(y_train, bins=40)"
   ]
  },
  {
   "cell_type": "code",
   "execution_count": 242,
   "metadata": {},
   "outputs": [
    {
     "data": {
      "text/plain": [
       "(array([5.21e+03, 8.20e+01, 8.00e+00, 0.00e+00, 2.00e+00, 0.00e+00,\n",
       "        0.00e+00, 0.00e+00, 0.00e+00, 0.00e+00, 0.00e+00, 1.00e+00,\n",
       "        0.00e+00, 0.00e+00, 0.00e+00, 1.00e+00, 0.00e+00, 1.00e+00,\n",
       "        1.00e+00, 0.00e+00, 0.00e+00, 0.00e+00, 0.00e+00, 0.00e+00,\n",
       "        0.00e+00, 0.00e+00, 1.00e+00, 0.00e+00, 0.00e+00, 0.00e+00,\n",
       "        0.00e+00, 0.00e+00, 0.00e+00, 1.00e+00, 1.00e+00, 3.00e+00,\n",
       "        1.40e+01, 1.70e+01, 2.00e+00, 1.50e+01]),\n",
       " array([0.21375877, 0.21570181, 0.21764486, 0.21958791, 0.22153096,\n",
       "        0.223474  , 0.22541705, 0.2273601 , 0.22930315, 0.23124619,\n",
       "        0.23318924, 0.23513229, 0.23707533, 0.23901838, 0.24096143,\n",
       "        0.24290448, 0.24484752, 0.24679057, 0.24873362, 0.25067667,\n",
       "        0.25261971, 0.25456276, 0.25650581, 0.25844886, 0.2603919 ,\n",
       "        0.26233495, 0.264278  , 0.26622104, 0.26816409, 0.27010714,\n",
       "        0.27205019, 0.27399323, 0.27593628, 0.27787933, 0.27982238,\n",
       "        0.28176542, 0.28370847, 0.28565152, 0.28759457, 0.28953761,\n",
       "        0.29148066]),\n",
       " <a list of 40 Patch objects>)"
      ]
     },
     "execution_count": 242,
     "metadata": {},
     "output_type": "execute_result"
    },
    {
     "data": {
      "image/png": "[encoded data removed]",
      "text/plain": [
       "<Figure size 432x288 with 1 Axes>"
      ]
     },
     "metadata": {},
     "output_type": "display_data"
    }
   ],
   "source": [
    "y_pred_train = model_m.predict(x_train)\n",
    "plt.hist(y_pred_train, bins=40)"
   ]
  },
  {
   "cell_type": "code",
   "execution_count": 243,
   "metadata": {},
   "outputs": [
    {
     "data": {
      "text/plain": [
       "array([[-1.3388161e-03,  5.7268300e-04,  4.1940711e-03, ...,\n",
       "        -7.7819551e-04, -3.9106567e-04, -5.2629597e-04],\n",
       "       [ 5.7268300e-04,  4.1940711e-03,  2.6704816e-03, ...,\n",
       "        -3.9106567e-04, -5.2629597e-04, -7.1479630e-04],\n",
       "       [ 4.1940711e-03,  2.6704816e-03,  7.6299475e-04, ...,\n",
       "        -5.2629597e-04, -7.1479630e-04,  7.5199277e-05],\n",
       "       ...,\n",
       "       [ 6.2344142e-04,  1.2461059e-03,  9.6145284e-04, ...,\n",
       "         9.4097212e-04,  3.3691677e-03,  3.9588595e-03],\n",
       "       [ 1.2461059e-03,  9.6145284e-04,  1.7809439e-04, ...,\n",
       "         3.3691677e-03,  3.9588595e-03,  1.7702312e-03],\n",
       "       [ 9.6145284e-04,  1.7809439e-04, -7.1256794e-04, ...,\n",
       "         3.9588595e-03,  1.7702312e-03, -1.0833453e-05]], dtype=float32)"
      ]
     },
     "execution_count": 243,
     "metadata": {},
     "output_type": "execute_result"
    }
   ],
   "source": [
    "x_train"
   ]
  },
  {
   "cell_type": "code",
   "execution_count": null,
   "metadata": {},
   "outputs": [],
   "source": []
  },
  {
   "cell_type": "code",
   "execution_count": null,
   "metadata": {},
   "outputs": [],
   "source": []
  }
 ],
 "metadata": {
  "kernelspec": {
   "display_name": "Python 2",
   "language": "python",
   "name": "python2"
  },
  "language_info": {
   "codemirror_mode": {
    "name": "ipython",
    "version": 2
   },
   "file_extension": ".py",
   "mimetype": "text/x-python",
   "name": "python",
   "nbconvert_exporter": "python",
   "pygments_lexer": "ipython2",
   "version": "2.7.10"
  }
 },
 "nbformat": 4,
 "nbformat_minor": 2
}
